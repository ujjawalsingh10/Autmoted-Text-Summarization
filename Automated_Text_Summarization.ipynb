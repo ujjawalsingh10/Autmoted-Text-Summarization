{
  "nbformat": 4,
  "nbformat_minor": 0,
  "metadata": {
    "colab": {
      "provenance": [],
      "authorship_tag": "ABX9TyOCrUonfh37X2v92CAnUKek",
      "include_colab_link": true
    },
    "kernelspec": {
      "name": "python3",
      "display_name": "Python 3"
    },
    "language_info": {
      "name": "python"
    }
  },
  "cells": [
    {
      "cell_type": "markdown",
      "metadata": {
        "id": "view-in-github",
        "colab_type": "text"
      },
      "source": [
        "<a href=\"https://colab.research.google.com/github/ujjawalsingh10/Autmoted-Text-Summarization/blob/main/Automated_Text_Summarization.ipynb\" target=\"_parent\"><img src=\"https://colab.research.google.com/assets/colab-badge.svg\" alt=\"Open In Colab\"/></a>"
      ]
    },
    {
      "cell_type": "code",
      "source": [
        "import pandas as pd"
      ],
      "metadata": {
        "id": "v-soq_36lf5o"
      },
      "execution_count": 2,
      "outputs": []
    },
    {
      "cell_type": "code",
      "source": [
        "cnn_daily_mail_parquet_file_1 = 'https://huggingface.co/datasets/cnn_dailymail/resolve/refs%2Fconvert%2Fparquet/1.0.0/cnn_dailymail-train-00000-of-00003.parquet'\n",
        "cnn_daily_mail_parquet_file_2 = 'https://huggingface.co/datasets/cnn_dailymail/resolve/refs%2Fconvert%2Fparquet/1.0.0/cnn_dailymail-train-00001-of-00003.parquet'\n",
        "cnn_daily_mail_parquet_file_3 = 'https://huggingface.co/datasets/cnn_dailymail/resolve/refs%2Fconvert%2Fparquet/1.0.0/cnn_dailymail-train-00002-of-00003.parquet'\n"
      ],
      "metadata": {
        "id": "SlslOcGVlw8m"
      },
      "execution_count": 10,
      "outputs": []
    },
    {
      "cell_type": "code",
      "execution_count": 11,
      "metadata": {
        "id": "5zrtCEw3j0S0"
      },
      "outputs": [],
      "source": [
        "df1 = pd.read_parquet(cnn_daily_mail_parquet_file_1, engine='auto')\n",
        "df2 = pd.read_parquet(cnn_daily_mail_parquet_file_2, engine='auto')\n",
        "df3 = pd.read_parquet(cnn_daily_mail_parquet_file_3, engine='auto')"
      ]
    },
    {
      "cell_type": "code",
      "source": [
        "## Concatinating the datasets\n",
        "df = pd.concat([df1, df2, df3], axis = 0).reset_index(drop = True)"
      ],
      "metadata": {
        "id": "5hicIm7pmNH-"
      },
      "execution_count": 12,
      "outputs": []
    },
    {
      "cell_type": "code",
      "source": [
        "df"
      ],
      "metadata": {
        "colab": {
          "base_uri": "https://localhost:8080/",
          "height": 424
        },
        "id": "FIX6OTlEm_LR",
        "outputId": "d1c31aa0-fc2d-4112-927b-9a2404fdb4a0"
      },
      "execution_count": 13,
      "outputs": [
        {
          "output_type": "execute_result",
          "data": {
            "text/plain": [
              "                                                  article  \\\n",
              "0       LONDON, England (Reuters) -- Harry Potter star...   \n",
              "1       Editor's note: In our Behind the Scenes series...   \n",
              "2       MINNEAPOLIS, Minnesota (CNN) -- Drivers who we...   \n",
              "3       WASHINGTON (CNN) -- Doctors removed five small...   \n",
              "4       (CNN)  -- The National Football League has ind...   \n",
              "...                                                   ...   \n",
              "287108  The nine-year-old daughter of a black, unarmed...   \n",
              "287109  Legalising assisted suicide is a slippery slop...   \n",
              "287110  A group calling itself 'The Women of the 99 Pe...   \n",
              "287111  Most men enjoy a good pint of lager or real al...   \n",
              "287112  A Facebook page seeking to preserve the 'Black...   \n",
              "\n",
              "                                               highlights  \\\n",
              "0       Harry Potter star Daniel Radcliffe gets £20M f...   \n",
              "1       Mentally ill inmates in Miami are housed on th...   \n",
              "2       NEW: \"I thought I was going to die,\" driver sa...   \n",
              "3       Five small polyps found during procedure; \"non...   \n",
              "4       NEW: NFL chief, Atlanta Falcons owner critical...   \n",
              "...                                                   ...   \n",
              "287108  Rumain Brisbon, 34, was killed after Phoenix p...   \n",
              "287109  Theo Boer, a European assisted suicide watchdo...   \n",
              "287110  Ohio congressman criticised for 'condoning the...   \n",
              "287111  The Black Country Ale Tairsters have been to 1...   \n",
              "287112  Facebook page supporting tradition gains one m...   \n",
              "\n",
              "                                              id  \n",
              "0       42c027e4ff9730fbb3de84c1af0d2c506e41c3e4  \n",
              "1       ee8871b15c50d0db17b0179a6d2beab35065f1e9  \n",
              "2       06352019a19ae31e527f37f7571c6dd7f0c5da37  \n",
              "3       24521a2abb2e1f5e34e6824e0f9e56904a2b0e88  \n",
              "4       7fe70cc8b12fab2d0a258fababf7d9c6b5e1262a  \n",
              "...                                          ...  \n",
              "287108  279a12d3ee37b8109cc192a9e88115a5a631fb06  \n",
              "287109  b5bc9d404a9a5d890c9fc26550b67e6d8d83241f  \n",
              "287110  500862586f925e406f8b662934e1a71bbee32463  \n",
              "287111  32a1f9e5c37a938c0c0bca1a1559247b9c4334b2  \n",
              "287112  8ec9ff4d633dd4cc26d53f503c33f7464b43c36e  \n",
              "\n",
              "[287113 rows x 3 columns]"
            ],
            "text/html": [
              "\n",
              "  <div id=\"df-e130f7af-4b9b-4292-b0cf-083331ed467f\">\n",
              "    <div class=\"colab-df-container\">\n",
              "      <div>\n",
              "<style scoped>\n",
              "    .dataframe tbody tr th:only-of-type {\n",
              "        vertical-align: middle;\n",
              "    }\n",
              "\n",
              "    .dataframe tbody tr th {\n",
              "        vertical-align: top;\n",
              "    }\n",
              "\n",
              "    .dataframe thead th {\n",
              "        text-align: right;\n",
              "    }\n",
              "</style>\n",
              "<table border=\"1\" class=\"dataframe\">\n",
              "  <thead>\n",
              "    <tr style=\"text-align: right;\">\n",
              "      <th></th>\n",
              "      <th>article</th>\n",
              "      <th>highlights</th>\n",
              "      <th>id</th>\n",
              "    </tr>\n",
              "  </thead>\n",
              "  <tbody>\n",
              "    <tr>\n",
              "      <th>0</th>\n",
              "      <td>LONDON, England (Reuters) -- Harry Potter star...</td>\n",
              "      <td>Harry Potter star Daniel Radcliffe gets £20M f...</td>\n",
              "      <td>42c027e4ff9730fbb3de84c1af0d2c506e41c3e4</td>\n",
              "    </tr>\n",
              "    <tr>\n",
              "      <th>1</th>\n",
              "      <td>Editor's note: In our Behind the Scenes series...</td>\n",
              "      <td>Mentally ill inmates in Miami are housed on th...</td>\n",
              "      <td>ee8871b15c50d0db17b0179a6d2beab35065f1e9</td>\n",
              "    </tr>\n",
              "    <tr>\n",
              "      <th>2</th>\n",
              "      <td>MINNEAPOLIS, Minnesota (CNN) -- Drivers who we...</td>\n",
              "      <td>NEW: \"I thought I was going to die,\" driver sa...</td>\n",
              "      <td>06352019a19ae31e527f37f7571c6dd7f0c5da37</td>\n",
              "    </tr>\n",
              "    <tr>\n",
              "      <th>3</th>\n",
              "      <td>WASHINGTON (CNN) -- Doctors removed five small...</td>\n",
              "      <td>Five small polyps found during procedure; \"non...</td>\n",
              "      <td>24521a2abb2e1f5e34e6824e0f9e56904a2b0e88</td>\n",
              "    </tr>\n",
              "    <tr>\n",
              "      <th>4</th>\n",
              "      <td>(CNN)  -- The National Football League has ind...</td>\n",
              "      <td>NEW: NFL chief, Atlanta Falcons owner critical...</td>\n",
              "      <td>7fe70cc8b12fab2d0a258fababf7d9c6b5e1262a</td>\n",
              "    </tr>\n",
              "    <tr>\n",
              "      <th>...</th>\n",
              "      <td>...</td>\n",
              "      <td>...</td>\n",
              "      <td>...</td>\n",
              "    </tr>\n",
              "    <tr>\n",
              "      <th>287108</th>\n",
              "      <td>The nine-year-old daughter of a black, unarmed...</td>\n",
              "      <td>Rumain Brisbon, 34, was killed after Phoenix p...</td>\n",
              "      <td>279a12d3ee37b8109cc192a9e88115a5a631fb06</td>\n",
              "    </tr>\n",
              "    <tr>\n",
              "      <th>287109</th>\n",
              "      <td>Legalising assisted suicide is a slippery slop...</td>\n",
              "      <td>Theo Boer, a European assisted suicide watchdo...</td>\n",
              "      <td>b5bc9d404a9a5d890c9fc26550b67e6d8d83241f</td>\n",
              "    </tr>\n",
              "    <tr>\n",
              "      <th>287110</th>\n",
              "      <td>A group calling itself 'The Women of the 99 Pe...</td>\n",
              "      <td>Ohio congressman criticised for 'condoning the...</td>\n",
              "      <td>500862586f925e406f8b662934e1a71bbee32463</td>\n",
              "    </tr>\n",
              "    <tr>\n",
              "      <th>287111</th>\n",
              "      <td>Most men enjoy a good pint of lager or real al...</td>\n",
              "      <td>The Black Country Ale Tairsters have been to 1...</td>\n",
              "      <td>32a1f9e5c37a938c0c0bca1a1559247b9c4334b2</td>\n",
              "    </tr>\n",
              "    <tr>\n",
              "      <th>287112</th>\n",
              "      <td>A Facebook page seeking to preserve the 'Black...</td>\n",
              "      <td>Facebook page supporting tradition gains one m...</td>\n",
              "      <td>8ec9ff4d633dd4cc26d53f503c33f7464b43c36e</td>\n",
              "    </tr>\n",
              "  </tbody>\n",
              "</table>\n",
              "<p>287113 rows × 3 columns</p>\n",
              "</div>\n",
              "      <button class=\"colab-df-convert\" onclick=\"convertToInteractive('df-e130f7af-4b9b-4292-b0cf-083331ed467f')\"\n",
              "              title=\"Convert this dataframe to an interactive table.\"\n",
              "              style=\"display:none;\">\n",
              "        \n",
              "  <svg xmlns=\"http://www.w3.org/2000/svg\" height=\"24px\"viewBox=\"0 0 24 24\"\n",
              "       width=\"24px\">\n",
              "    <path d=\"M0 0h24v24H0V0z\" fill=\"none\"/>\n",
              "    <path d=\"M18.56 5.44l.94 2.06.94-2.06 2.06-.94-2.06-.94-.94-2.06-.94 2.06-2.06.94zm-11 1L8.5 8.5l.94-2.06 2.06-.94-2.06-.94L8.5 2.5l-.94 2.06-2.06.94zm10 10l.94 2.06.94-2.06 2.06-.94-2.06-.94-.94-2.06-.94 2.06-2.06.94z\"/><path d=\"M17.41 7.96l-1.37-1.37c-.4-.4-.92-.59-1.43-.59-.52 0-1.04.2-1.43.59L10.3 9.45l-7.72 7.72c-.78.78-.78 2.05 0 2.83L4 21.41c.39.39.9.59 1.41.59.51 0 1.02-.2 1.41-.59l7.78-7.78 2.81-2.81c.8-.78.8-2.07 0-2.86zM5.41 20L4 18.59l7.72-7.72 1.47 1.35L5.41 20z\"/>\n",
              "  </svg>\n",
              "      </button>\n",
              "      \n",
              "  <style>\n",
              "    .colab-df-container {\n",
              "      display:flex;\n",
              "      flex-wrap:wrap;\n",
              "      gap: 12px;\n",
              "    }\n",
              "\n",
              "    .colab-df-convert {\n",
              "      background-color: #E8F0FE;\n",
              "      border: none;\n",
              "      border-radius: 50%;\n",
              "      cursor: pointer;\n",
              "      display: none;\n",
              "      fill: #1967D2;\n",
              "      height: 32px;\n",
              "      padding: 0 0 0 0;\n",
              "      width: 32px;\n",
              "    }\n",
              "\n",
              "    .colab-df-convert:hover {\n",
              "      background-color: #E2EBFA;\n",
              "      box-shadow: 0px 1px 2px rgba(60, 64, 67, 0.3), 0px 1px 3px 1px rgba(60, 64, 67, 0.15);\n",
              "      fill: #174EA6;\n",
              "    }\n",
              "\n",
              "    [theme=dark] .colab-df-convert {\n",
              "      background-color: #3B4455;\n",
              "      fill: #D2E3FC;\n",
              "    }\n",
              "\n",
              "    [theme=dark] .colab-df-convert:hover {\n",
              "      background-color: #434B5C;\n",
              "      box-shadow: 0px 1px 3px 1px rgba(0, 0, 0, 0.15);\n",
              "      filter: drop-shadow(0px 1px 2px rgba(0, 0, 0, 0.3));\n",
              "      fill: #FFFFFF;\n",
              "    }\n",
              "  </style>\n",
              "\n",
              "      <script>\n",
              "        const buttonEl =\n",
              "          document.querySelector('#df-e130f7af-4b9b-4292-b0cf-083331ed467f button.colab-df-convert');\n",
              "        buttonEl.style.display =\n",
              "          google.colab.kernel.accessAllowed ? 'block' : 'none';\n",
              "\n",
              "        async function convertToInteractive(key) {\n",
              "          const element = document.querySelector('#df-e130f7af-4b9b-4292-b0cf-083331ed467f');\n",
              "          const dataTable =\n",
              "            await google.colab.kernel.invokeFunction('convertToInteractive',\n",
              "                                                     [key], {});\n",
              "          if (!dataTable) return;\n",
              "\n",
              "          const docLinkHtml = 'Like what you see? Visit the ' +\n",
              "            '<a target=\"_blank\" href=https://colab.research.google.com/notebooks/data_table.ipynb>data table notebook</a>'\n",
              "            + ' to learn more about interactive tables.';\n",
              "          element.innerHTML = '';\n",
              "          dataTable['output_type'] = 'display_data';\n",
              "          await google.colab.output.renderOutput(dataTable, element);\n",
              "          const docLink = document.createElement('div');\n",
              "          docLink.innerHTML = docLinkHtml;\n",
              "          element.appendChild(docLink);\n",
              "        }\n",
              "      </script>\n",
              "    </div>\n",
              "  </div>\n",
              "  "
            ]
          },
          "metadata": {},
          "execution_count": 13
        }
      ]
    },
    {
      "cell_type": "code",
      "source": [],
      "metadata": {
        "id": "sk8i5y79nAdU"
      },
      "execution_count": null,
      "outputs": []
    }
  ]
}